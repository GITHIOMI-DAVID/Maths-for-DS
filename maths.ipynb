{
 "cells": [
  {
   "cell_type": "markdown",
   "id": "7edc469e",
   "metadata": {},
   "source": [
    "## MATHS FOR DATA SCIENCE"
   ]
  },
  {
   "cell_type": "code",
   "execution_count": 3,
   "id": "23d3738e",
   "metadata": {},
   "outputs": [],
   "source": [
    "import statistics as stats"
   ]
  },
  {
   "cell_type": "code",
   "execution_count": 5,
   "id": "8635567d",
   "metadata": {},
   "outputs": [],
   "source": [
    "#sample data\n",
    "x=[2,3,4,5,6,7,8,9]"
   ]
  },
  {
   "cell_type": "code",
   "execution_count": 6,
   "id": "564515a6",
   "metadata": {},
   "outputs": [
    {
     "name": "stdout",
     "output_type": "stream",
     "text": [
      "[2, 3, 4, 5, 6, 7, 8, 9]\n"
     ]
    }
   ],
   "source": [
    "print (x)"
   ]
  },
  {
   "cell_type": "markdown",
   "id": "d7047284",
   "metadata": {},
   "source": [
    "lets find the mean"
   ]
  },
  {
   "cell_type": "code",
   "execution_count": 1,
   "id": "b863ad6f",
   "metadata": {},
   "outputs": [
    {
     "ename": "NameError",
     "evalue": "name 'stats' is not defined",
     "output_type": "error",
     "traceback": [
      "\u001b[31m---------------------------------------------------------------------------\u001b[39m",
      "\u001b[31mNameError\u001b[39m                                 Traceback (most recent call last)",
      "\u001b[36mCell\u001b[39m\u001b[36m \u001b[39m\u001b[32mIn[1]\u001b[39m\u001b[32m, line 1\u001b[39m\n\u001b[32m----> \u001b[39m\u001b[32m1\u001b[39m mean = \u001b[43mstats\u001b[49m.mean(data)\n",
      "\u001b[31mNameError\u001b[39m: name 'stats' is not defined"
     ]
    }
   ],
   "source": [
    "mean = stats.mean(data)"
   ]
  },
  {
   "cell_type": "code",
   "execution_count": 2,
   "id": "7ae06388",
   "metadata": {},
   "outputs": [
    {
     "ename": "NameError",
     "evalue": "name 'stats' is not defined",
     "output_type": "error",
     "traceback": [
      "\u001b[31m---------------------------------------------------------------------------\u001b[39m",
      "\u001b[31mNameError\u001b[39m                                 Traceback (most recent call last)",
      "\u001b[36mCell\u001b[39m\u001b[36m \u001b[39m\u001b[32mIn[2]\u001b[39m\u001b[32m, line 1\u001b[39m\n\u001b[32m----> \u001b[39m\u001b[32m1\u001b[39m mean_value=\u001b[43mstats\u001b[49m.mean(x)\n",
      "\u001b[31mNameError\u001b[39m: name 'stats' is not defined"
     ]
    }
   ],
   "source": [
    "mean_value=stats.mean(x)"
   ]
  },
  {
   "cell_type": "code",
   "execution_count": 4,
   "id": "260876eb",
   "metadata": {},
   "outputs": [
    {
     "ename": "NameError",
     "evalue": "name 'x' is not defined",
     "output_type": "error",
     "traceback": [
      "\u001b[31m---------------------------------------------------------------------------\u001b[39m",
      "\u001b[31mNameError\u001b[39m                                 Traceback (most recent call last)",
      "\u001b[36mCell\u001b[39m\u001b[36m \u001b[39m\u001b[32mIn[4]\u001b[39m\u001b[32m, line 1\u001b[39m\n\u001b[32m----> \u001b[39m\u001b[32m1\u001b[39m mean=stats.mean(\u001b[43mx\u001b[49m)\n",
      "\u001b[31mNameError\u001b[39m: name 'x' is not defined"
     ]
    }
   ],
   "source": [
    "mean=stats.mean(x)"
   ]
  },
  {
   "cell_type": "code",
   "execution_count": 7,
   "id": "29794640",
   "metadata": {},
   "outputs": [],
   "source": [
    "mean=stats.mean(x)"
   ]
  },
  {
   "cell_type": "code",
   "execution_count": 8,
   "id": "101f663b",
   "metadata": {},
   "outputs": [
    {
     "name": "stdout",
     "output_type": "stream",
     "text": [
      "5.5\n"
     ]
    }
   ],
   "source": [
    "print(mean)"
   ]
  },
  {
   "cell_type": "code",
   "execution_count": null,
   "id": "5d46142f",
   "metadata": {},
   "outputs": [],
   "source": []
  }
 ],
 "metadata": {
  "kernelspec": {
   "display_name": "Python 3",
   "language": "python",
   "name": "python3"
  },
  "language_info": {
   "codemirror_mode": {
    "name": "ipython",
    "version": 3
   },
   "file_extension": ".py",
   "mimetype": "text/x-python",
   "name": "python",
   "nbconvert_exporter": "python",
   "pygments_lexer": "ipython3",
   "version": "3.12.10"
  }
 },
 "nbformat": 4,
 "nbformat_minor": 5
}
